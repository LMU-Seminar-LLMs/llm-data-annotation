{
 "cells": [
  {
   "cell_type": "code",
   "execution_count": null,
   "id": "initial_id",
   "metadata": {
    "collapsed": true
   },
   "outputs": [],
   "source": [
    "import pandas as pd\n",
    "import os\n",
    "import matplotlib.pyplot as plt\n",
    "import seaborn as sns"
   ]
  },
  {
   "cell_type": "code",
   "execution_count": null,
   "outputs": [],
   "source": [
    "os.getcwd()"
   ],
   "metadata": {
    "collapsed": false
   },
   "id": "b48382d09bdf9a83"
  },
  {
   "cell_type": "code",
   "execution_count": null,
   "outputs": [],
   "source": [
    "os.chdir('..')"
   ],
   "metadata": {
    "collapsed": false
   },
   "id": "23592ec940ef0f99"
  },
  {
   "cell_type": "code",
   "execution_count": null,
   "outputs": [],
   "source": [
    "df_predicted = pd.read_csv('data/sentiment/annotated/gpt35/conf_scores_1000_preproc.csv')"
   ],
   "metadata": {
    "collapsed": false
   },
   "id": "e31820154ae89099"
  },
  {
   "cell_type": "code",
   "execution_count": null,
   "outputs": [],
   "source": [
    "df_predicted = pd.read_csv('data/sentiment/annotated/ada/ada_500.csv')"
   ],
   "metadata": {
    "collapsed": false
   },
   "id": "68bf1cb3c3f0f6c2"
  },
  {
   "cell_type": "code",
   "execution_count": null,
   "outputs": [],
   "source": [
    "df_predicted.predicted_label.value_counts()"
   ],
   "metadata": {
    "collapsed": false
   },
   "id": "93b5742988353915"
  },
  {
   "cell_type": "code",
   "execution_count": null,
   "outputs": [],
   "source": [
    "df_predicted[df_predicted.confidence_score<1]"
   ],
   "metadata": {
    "collapsed": false
   },
   "id": "eed2be628872f649"
  },
  {
   "cell_type": "code",
   "execution_count": null,
   "outputs": [],
   "source": [
    "df_original = pd.read_csv('data/sentiment/original/train.csv', encoding= 'unicode_escape')"
   ],
   "metadata": {
    "collapsed": false
   },
   "id": "778fac8256c2aa70"
  },
  {
   "cell_type": "code",
   "execution_count": null,
   "outputs": [],
   "source": [
    "common_texts = df_predicted['text'].values\n",
    "df_filtered_original = df_original[df_original['text'].isin(common_texts)]"
   ],
   "metadata": {
    "collapsed": false
   },
   "id": "ca07f5b9492a88b6"
  },
  {
   "cell_type": "code",
   "execution_count": null,
   "outputs": [],
   "source": [
    "df_combined = pd.merge(df_filtered_original, df_predicted, on='text', how='inner')"
   ],
   "metadata": {
    "collapsed": false
   },
   "id": "f794e192ada1bfb"
  },
  {
   "cell_type": "code",
   "execution_count": null,
   "outputs": [],
   "source": [
    "df_combined['is_correct'] = (df_combined['sentiment'] == df_combined['predicted_labels']).astype(int)"
   ],
   "metadata": {
    "collapsed": false
   },
   "id": "1b671b96c09eba92"
  },
  {
   "cell_type": "code",
   "execution_count": null,
   "outputs": [],
   "source": [
    "plt.figure(figsize=(12, 7))\n",
    "sns.histplot(df_combined, x='confidence_score', hue='is_correct', element=\"bars\", stat=\"density\", common_norm=False, palette=\"viridis\", alpha=0.6)\n",
    "plt.title('Distribution of Confidence Scores')\n",
    "plt.xlabel('Confidence Score')\n",
    "plt.ylabel('Density')\n",
    "plt.legend(title='Prediction Correct', labels=['Incorrect', 'Correct'], loc='upper left', bbox_to_anchor=(1,1))\n",
    "plt.show()\n"
   ],
   "metadata": {
    "collapsed": false
   },
   "id": "1801a95dccf53d45"
  },
  {
   "cell_type": "code",
   "execution_count": null,
   "outputs": [],
   "source": [
    "unannotated_small = pd.read_csv('data/sentiment/unannotated/unannotated_sentiment_dataset.csv', index_col =0)"
   ],
   "metadata": {
    "collapsed": false
   },
   "id": "5d76b385e809f272"
  },
  {
   "cell_type": "code",
   "execution_count": null,
   "outputs": [],
   "source": [
    "unannotated_small.iloc[0:200].to_csv('data/sentiment/unannotated/unannotated_200.csv')"
   ],
   "metadata": {
    "collapsed": false
   },
   "id": "7f64fb1c92726137"
  },
  {
   "cell_type": "code",
   "execution_count": null,
   "outputs": [],
   "source": [
    "unannotated_small.iloc[0:50].to_csv('data/sentiment/unannotated/unannotated_50.csv')"
   ],
   "metadata": {
    "collapsed": false
   },
   "id": "a75f989a95718381"
  },
  {
   "cell_type": "code",
   "execution_count": null,
   "outputs": [],
   "source": [],
   "metadata": {
    "collapsed": false
   },
   "id": "f5e28879d9642ace"
  }
 ],
 "metadata": {
  "kernelspec": {
   "display_name": "Python 3",
   "language": "python",
   "name": "python3"
  },
  "language_info": {
   "codemirror_mode": {
    "name": "ipython",
    "version": 2
   },
   "file_extension": ".py",
   "mimetype": "text/x-python",
   "name": "python",
   "nbconvert_exporter": "python",
   "pygments_lexer": "ipython2",
   "version": "2.7.6"
  }
 },
 "nbformat": 4,
 "nbformat_minor": 5
}
