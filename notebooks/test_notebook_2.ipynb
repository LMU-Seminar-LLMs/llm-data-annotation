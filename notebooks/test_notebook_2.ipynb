{
 "cells": [
  {
   "cell_type": "code",
   "execution_count": 1,
   "id": "initial_id",
   "metadata": {
    "collapsed": true,
    "ExecuteTime": {
     "end_time": "2023-08-08T11:47:50.372527700Z",
     "start_time": "2023-08-08T11:47:50.355945900Z"
    }
   },
   "outputs": [],
   "source": [
    "import pandas as pd\n",
    "import os\n",
    "import matplotlib.pyplot as plt\n",
    "import seaborn as sns"
   ]
  },
  {
   "cell_type": "code",
   "execution_count": 2,
   "outputs": [
    {
     "data": {
      "text/plain": "'C:\\\\Users\\\\saran\\\\Desktop\\\\LLM Seminar\\\\Apps Phase\\\\LLM_Data_Annotation\\\\notebooks'"
     },
     "execution_count": 2,
     "metadata": {},
     "output_type": "execute_result"
    }
   ],
   "source": [
    "os.getcwd()"
   ],
   "metadata": {
    "collapsed": false,
    "ExecuteTime": {
     "end_time": "2023-08-08T11:47:50.389526900Z",
     "start_time": "2023-08-08T11:47:50.371525900Z"
    }
   },
   "id": "b48382d09bdf9a83"
  },
  {
   "cell_type": "code",
   "execution_count": 3,
   "outputs": [],
   "source": [
    "os.chdir('..')"
   ],
   "metadata": {
    "collapsed": false,
    "ExecuteTime": {
     "end_time": "2023-08-08T11:47:50.459824400Z",
     "start_time": "2023-08-08T11:47:50.387527100Z"
    }
   },
   "id": "23592ec940ef0f99"
  },
  {
   "cell_type": "code",
   "execution_count": 4,
   "outputs": [],
   "source": [
    "df_predicted = pd.read_csv('data/sentiment/annotated/gpt35/conf_scores_1000_preproc.csv')"
   ],
   "metadata": {
    "collapsed": false,
    "ExecuteTime": {
     "end_time": "2023-08-08T11:48:04.725659700Z",
     "start_time": "2023-08-08T11:48:04.680654800Z"
    }
   },
   "id": "e31820154ae89099"
  },
  {
   "cell_type": "code",
   "execution_count": 6,
   "outputs": [],
   "source": [
    "df_predicted = pd.read_csv('data/sentiment/annotated/ada/ada_500.csv')"
   ],
   "metadata": {
    "collapsed": false,
    "ExecuteTime": {
     "end_time": "2023-08-08T12:14:47.747837800Z",
     "start_time": "2023-08-08T12:14:47.672051500Z"
    }
   },
   "id": "68bf1cb3c3f0f6c2"
  },
  {
   "cell_type": "code",
   "execution_count": 7,
   "outputs": [
    {
     "data": {
      "text/plain": "predicted_label\n1                                          330\n1 for positive, 0 for neutral,              71\npositive                                    19\nthe sentiment in this text is positive.     13\n1 is positive, 0 is negative.                7\n1: positive                                  6\nthe sentiment in this text is negative.      4\npositive: 1\\n\\n neutral:                     4\nthe sentiment of this text is positive.      3\n1 is positive.                               2\nthe sentiment of this text is negative.      2\npositive: 1\\n\\nnoun                          2\n1, 2                                         2\n1\\n\\n0\\n\\n1                                  1\nthe text in this image is in the             1\npositive: i have to go to                    1\n1 positive                                   1\n1\\n\\n neutral\\n\\n2                           1\n1: perky\\n2: per                             1\n1: neutral                                   1\n1: daniel has won dsds.                      1\n1\\n\\nno good, i guess                        1\n1 good morning\\n0 morning\\n2                 1\npositive: i just realized that i             1\npositive: 1\\n\\nn/                            1\nthe birds are out, oh man...                 1\n1: positive\\n2: my son                       1\n1\\n\\npositive                                1\n1 is home alone. 2 is negative               1\n1 is so so so so crazy i                     1\n1: attempts to decide on a movie             1\nthe text has a positive sentiment.           1\n1: at least i get to watch                   1\n1\\n\\n2                                       1\n1: positive\\n2: negative                     1\nthe free fillin' app on my                   1\n1: i'm sorry.                                1\n1: will be back later.                       1\n1 week post my'horrible,                     1\npositive: 1\\n\\n negative:                    1\npositive: i was going to go                  1\n1: positive\\n2: neutral                      1\n1: good morning\\n\\n2:                        1\npositive: 1\\n\\npositive                      1\nthe day you realize what mess you`           1\n1, 2, that's why i                           1\npositive: 1                                  1\nthe plan to not spend money is not           1\nName: count, dtype: int64"
     },
     "execution_count": 7,
     "metadata": {},
     "output_type": "execute_result"
    }
   ],
   "source": [
    "df_predicted.predicted_label.value_counts()"
   ],
   "metadata": {
    "collapsed": false,
    "ExecuteTime": {
     "end_time": "2023-08-08T12:14:55.196889500Z",
     "start_time": "2023-08-08T12:14:55.163220700Z"
    }
   },
   "id": "93b5742988353915"
  },
  {
   "cell_type": "code",
   "execution_count": 5,
   "outputs": [
    {
     "data": {
      "text/plain": "     Unnamed: 0                                               text  \\\n5             5  http://www.dothebouncy.com/smf - some shameles...   \n16           16   S`ok, trying to plot alternatives as we speak...   \n22           22  is cleaning the house for her family who is co...   \n27           27  On the way to Malaysia...no internet access to...   \n34           34   Ahhh, I slept through the game.  I`m gonna tr...   \n..          ...                                                ...   \n888         888  Woke up at 7:50 then fell back to sleep. Woke ...   \n913         913  has broken off the fb wedding so sadly no long...   \n932         933  Buried under more web changes. Going to make l...   \n977         978   Ha! Thanks Bryan! And don`t remind me about t...   \n980         981                    haha i will remember that  ****   \n\n    predicted_labels  confidence_score  \n5           positive          0.666667  \n16          negative          0.666667  \n22          positive          0.333333  \n27           neutral          0.333333  \n34          positive          0.666667  \n..               ...               ...  \n888         positive          0.666667  \n913         negative          0.666667  \n932         negative          0.666667  \n977         positive          0.333333  \n980         positive          0.666667  \n\n[92 rows x 4 columns]",
      "text/html": "<div>\n<style scoped>\n    .dataframe tbody tr th:only-of-type {\n        vertical-align: middle;\n    }\n\n    .dataframe tbody tr th {\n        vertical-align: top;\n    }\n\n    .dataframe thead th {\n        text-align: right;\n    }\n</style>\n<table border=\"1\" class=\"dataframe\">\n  <thead>\n    <tr style=\"text-align: right;\">\n      <th></th>\n      <th>Unnamed: 0</th>\n      <th>text</th>\n      <th>predicted_labels</th>\n      <th>confidence_score</th>\n    </tr>\n  </thead>\n  <tbody>\n    <tr>\n      <th>5</th>\n      <td>5</td>\n      <td>http://www.dothebouncy.com/smf - some shameles...</td>\n      <td>positive</td>\n      <td>0.666667</td>\n    </tr>\n    <tr>\n      <th>16</th>\n      <td>16</td>\n      <td>S`ok, trying to plot alternatives as we speak...</td>\n      <td>negative</td>\n      <td>0.666667</td>\n    </tr>\n    <tr>\n      <th>22</th>\n      <td>22</td>\n      <td>is cleaning the house for her family who is co...</td>\n      <td>positive</td>\n      <td>0.333333</td>\n    </tr>\n    <tr>\n      <th>27</th>\n      <td>27</td>\n      <td>On the way to Malaysia...no internet access to...</td>\n      <td>neutral</td>\n      <td>0.333333</td>\n    </tr>\n    <tr>\n      <th>34</th>\n      <td>34</td>\n      <td>Ahhh, I slept through the game.  I`m gonna tr...</td>\n      <td>positive</td>\n      <td>0.666667</td>\n    </tr>\n    <tr>\n      <th>...</th>\n      <td>...</td>\n      <td>...</td>\n      <td>...</td>\n      <td>...</td>\n    </tr>\n    <tr>\n      <th>888</th>\n      <td>888</td>\n      <td>Woke up at 7:50 then fell back to sleep. Woke ...</td>\n      <td>positive</td>\n      <td>0.666667</td>\n    </tr>\n    <tr>\n      <th>913</th>\n      <td>913</td>\n      <td>has broken off the fb wedding so sadly no long...</td>\n      <td>negative</td>\n      <td>0.666667</td>\n    </tr>\n    <tr>\n      <th>932</th>\n      <td>933</td>\n      <td>Buried under more web changes. Going to make l...</td>\n      <td>negative</td>\n      <td>0.666667</td>\n    </tr>\n    <tr>\n      <th>977</th>\n      <td>978</td>\n      <td>Ha! Thanks Bryan! And don`t remind me about t...</td>\n      <td>positive</td>\n      <td>0.333333</td>\n    </tr>\n    <tr>\n      <th>980</th>\n      <td>981</td>\n      <td>haha i will remember that  ****</td>\n      <td>positive</td>\n      <td>0.666667</td>\n    </tr>\n  </tbody>\n</table>\n<p>92 rows × 4 columns</p>\n</div>"
     },
     "execution_count": 5,
     "metadata": {},
     "output_type": "execute_result"
    }
   ],
   "source": [
    "df_predicted[df_predicted.confidence_score<1]"
   ],
   "metadata": {
    "collapsed": false,
    "ExecuteTime": {
     "end_time": "2023-08-08T11:48:24.455385Z",
     "start_time": "2023-08-08T11:48:24.363863800Z"
    }
   },
   "id": "eed2be628872f649"
  },
  {
   "cell_type": "code",
   "execution_count": 6,
   "outputs": [],
   "source": [
    "df_original = pd.read_csv('data/sentiment/original/train.csv', encoding= 'unicode_escape')"
   ],
   "metadata": {
    "collapsed": false,
    "ExecuteTime": {
     "end_time": "2023-08-08T01:46:25.905645100Z",
     "start_time": "2023-08-08T01:46:25.793703500Z"
    }
   },
   "id": "778fac8256c2aa70"
  },
  {
   "cell_type": "code",
   "execution_count": 7,
   "outputs": [],
   "source": [
    "common_texts = df_predicted['text'].values\n",
    "df_filtered_original = df_original[df_original['text'].isin(common_texts)]"
   ],
   "metadata": {
    "collapsed": false,
    "ExecuteTime": {
     "end_time": "2023-08-08T01:46:31.993505200Z",
     "start_time": "2023-08-08T01:46:31.965883Z"
    }
   },
   "id": "ca07f5b9492a88b6"
  },
  {
   "cell_type": "code",
   "execution_count": 9,
   "outputs": [],
   "source": [
    "df_combined = pd.merge(df_filtered_original, df_predicted, on='text', how='inner')"
   ],
   "metadata": {
    "collapsed": false,
    "ExecuteTime": {
     "end_time": "2023-08-08T01:46:43.637034100Z",
     "start_time": "2023-08-08T01:46:43.599975300Z"
    }
   },
   "id": "f794e192ada1bfb"
  },
  {
   "cell_type": "code",
   "execution_count": 15,
   "outputs": [],
   "source": [
    "df_combined['is_correct'] = (df_combined['sentiment'] == df_combined['predicted_labels']).astype(int)"
   ],
   "metadata": {
    "collapsed": false,
    "ExecuteTime": {
     "end_time": "2023-08-08T01:49:15.373844300Z",
     "start_time": "2023-08-08T01:49:15.344267Z"
    }
   },
   "id": "1b671b96c09eba92"
  },
  {
   "cell_type": "code",
   "execution_count": 74,
   "outputs": [
    {
     "data": {
      "text/plain": "<Figure size 1200x700 with 1 Axes>",
      "image/png": "[encoded data removed]"
     },
     "metadata": {},
     "output_type": "display_data"
    }
   ],
   "source": [
    "plt.figure(figsize=(12, 7))\n",
    "sns.histplot(df_combined, x='confidence_score', hue='is_correct', element=\"bars\", stat=\"density\", common_norm=False, palette=\"viridis\", alpha=0.6)\n",
    "plt.title('Distribution of Confidence Scores')\n",
    "plt.xlabel('Confidence Score')\n",
    "plt.ylabel('Density')\n",
    "plt.legend(title='Prediction Correct', labels=['Incorrect', 'Correct'], loc='upper left', bbox_to_anchor=(1,1))\n",
    "plt.show()\n"
   ],
   "metadata": {
    "collapsed": false,
    "ExecuteTime": {
     "end_time": "2023-08-08T02:13:11.965991900Z",
     "start_time": "2023-08-08T02:13:11.711822Z"
    }
   },
   "id": "1801a95dccf53d45"
  },
  {
   "cell_type": "code",
   "execution_count": 6,
   "outputs": [],
   "source": [
    "unannotated_small = pd.read_csv('data/sentiment/unannotated/unannotated_sentiment_dataset.csv', index_col =0)"
   ],
   "metadata": {
    "collapsed": false,
    "ExecuteTime": {
     "end_time": "2023-08-08T11:00:30.918320200Z",
     "start_time": "2023-08-08T11:00:30.852617400Z"
    }
   },
   "id": "5d76b385e809f272"
  },
  {
   "cell_type": "code",
   "execution_count": 7,
   "outputs": [],
   "source": [
    "unannotated_small.iloc[0:200].to_csv('data/sentiment/unannotated/unannotated_200.csv')"
   ],
   "metadata": {
    "collapsed": false,
    "ExecuteTime": {
     "end_time": "2023-08-08T11:00:31.743701900Z",
     "start_time": "2023-08-08T11:00:31.728532500Z"
    }
   },
   "id": "7f64fb1c92726137"
  },
  {
   "cell_type": "code",
   "execution_count": 8,
   "outputs": [],
   "source": [
    "unannotated_small.iloc[0:50].to_csv('data/sentiment/unannotated/unannotated_50.csv')"
   ],
   "metadata": {
    "collapsed": false,
    "ExecuteTime": {
     "end_time": "2023-08-08T11:00:47.023208300Z",
     "start_time": "2023-08-08T11:00:46.977576Z"
    }
   },
   "id": "a75f989a95718381"
  },
  {
   "cell_type": "code",
   "execution_count": null,
   "outputs": [],
   "source": [],
   "metadata": {
    "collapsed": false
   },
   "id": "f5e28879d9642ace"
  }
 ],
 "metadata": {
  "kernelspec": {
   "display_name": "Python 3",
   "language": "python",
   "name": "python3"
  },
  "language_info": {
   "codemirror_mode": {
    "name": "ipython",
    "version": 2
   },
   "file_extension": ".py",
   "mimetype": "text/x-python",
   "name": "python",
   "nbconvert_exporter": "python",
   "pygments_lexer": "ipython2",
   "version": "2.7.6"
  }
 },
 "nbformat": 4,
 "nbformat_minor": 5
}
