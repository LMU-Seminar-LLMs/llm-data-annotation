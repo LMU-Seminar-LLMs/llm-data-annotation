{
 "cells": [
  {
   "cell_type": "code",
   "execution_count": 1,
   "id": "initial_id",
   "metadata": {
    "collapsed": true,
    "ExecuteTime": {
     "end_time": "2023-09-05T04:10:24.500535500Z",
     "start_time": "2023-09-05T04:10:24.489364300Z"
    }
   },
   "outputs": [],
   "source": [
    "import pandas as pd\n",
    "import os\n",
    "import matplotlib.pyplot as plt\n",
    "import seaborn as sns"
   ]
  },
  {
   "cell_type": "code",
   "execution_count": 3,
   "outputs": [
    {
     "data": {
      "text/plain": "'C:\\\\Users\\\\saran\\\\Desktop\\\\LLM Seminar\\\\Apps Phase\\\\LLM_Data_Annotation\\\\notebooks'"
     },
     "execution_count": 3,
     "metadata": {},
     "output_type": "execute_result"
    }
   ],
   "source": [
    "os.getcwd()"
   ],
   "metadata": {
    "collapsed": false,
    "ExecuteTime": {
     "end_time": "2023-09-05T04:10:29.754690500Z",
     "start_time": "2023-09-05T04:10:29.737554500Z"
    }
   },
   "id": "b48382d09bdf9a83"
  },
  {
   "cell_type": "code",
   "execution_count": 3,
   "outputs": [],
   "source": [
    "os.chdir('..')"
   ],
   "metadata": {
    "collapsed": false,
    "ExecuteTime": {
     "end_time": "2023-09-05T04:09:59.193167500Z",
     "start_time": "2023-09-05T04:09:59.073889600Z"
    }
   },
   "id": "23592ec940ef0f99"
  },
  {
   "cell_type": "code",
   "execution_count": null,
   "outputs": [],
   "source": [],
   "metadata": {
    "collapsed": false
   },
   "id": "5dcd3eaf9834eacc"
  },
  {
   "cell_type": "code",
   "execution_count": 16,
   "outputs": [],
   "source": [
    "data = pd.read_csv('../data/cleaned/cleaned_1.csv')"
   ],
   "metadata": {
    "collapsed": false,
    "ExecuteTime": {
     "end_time": "2023-09-05T04:56:00.923259900Z",
     "start_time": "2023-09-05T04:56:00.899473900Z"
    }
   },
   "id": "d9534c5e1a68ea65"
  },
  {
   "cell_type": "code",
   "execution_count": 17,
   "outputs": [
    {
     "data": {
      "text/plain": "                                                 text  confidence_scores  \\\n0                 I`d have responded, if I were going           1.000000   \n1       Sooo SAD I will miss you here in San Diego!!!           1.000000   \n2                           my boss is bullying me...           1.000000   \n3                      what interview! leave me alone           1.000000   \n4    Sons of ****, why couldn`t they put them on t...           1.000000   \n5   http://www.dothebouncy.com/smf - some shameles...           1.000000   \n6   2am feedings for the baby are fun when he is a...           1.000000   \n7                                          Soooo high           1.000000   \n8                                         Both of you           1.000000   \n9    Journey!? Wow... u just became cooler.  hehe....           1.000000   \n10   as much as i love to be hopeful, i reckon the...           1.000000   \n11  I really really like the song Love Story by Ta...           1.000000   \n12       My Sharpie is running DANGERously low on ink           1.000000   \n13  i want to go to music tonight but i lost my vo...           1.000000   \n14                         test test from the LG enV2           1.000000   \n15                              Uh oh, I am sunburned           1.000000   \n16   S`ok, trying to plot alternatives as we speak...           1.000000   \n17  i`ve been sick for the past few days  and thus...           1.000000   \n18         is back home now      gonna miss every one           1.000000   \n19                         Hes just not that into you           1.000000   \n20   oh Marly, I`m so sorry!!  I hope you find her...           1.000000   \n21  Playing Ghost Online is really interesting. Th...           1.000000   \n22  is cleaning the house for her family who is co...           0.666667   \n23  gotta restart my computer .. I thought Win7 wa...           1.000000   \n24  SEe waT I Mean bOuT FoLL0w fRiiDaYs... It`S cA...           1.000000   \n25  the free fillin` app on my ipod is fun, im add...           1.000000   \n26                                         I`m sorry.           0.666667   \n27  On the way to Malaysia...no internet access to...           1.000000   \n28  juss came backk from Berkeleyy ; omg its madd ...           1.000000   \n29  Went to sleep and there is a power cut in Noid...           1.000000   \n30  I`m going home now. Have you seen my new twitt...           1.000000   \n31  i hope unni will make the audition . fighting ...           1.000000   \n32   If it is any consolation I got my BMI tested ...           1.000000   \n33                     That`s very funny.  Cute kids.           1.000000   \n34   Ahhh, I slept through the game.  I`m gonna tr...           1.000000   \n35  Thats it, its the end. Tears for Fears vs Eric...           1.000000   \n36  Born and raised in NYC and living in Texas for...           0.333333   \n37  just in case you wonder, we are really busy to...           1.000000   \n38  i`m soooooo sleeeeepy!!! the last day o` schoo...           1.000000   \n39  A little happy for the wine jeje ok it`sm my f...           1.000000   \n40   Car not happy, big big dent in boot! Hoping t...           1.000000   \n41  im an avid fan of **** magazine and i love you...           1.000000   \n42                                           MAYDAY?!           1.000000   \n43  RATT ROCKED NASHVILLE TONITE..ONE THING SUCKED...           1.000000   \n44   I love to! But I`m only available from 5pm.  ...           1.000000   \n45  The girl in the hair salon asked me 'Shall I t...           1.000000   \n46  egh blah and boooooooooooo i dunno wanna go to...           1.000000   \n47               :visiting my friendster and facebook           1.000000   \n48  i donbt like to peel prawns, i also dont like ...           1.000000   \n49   which case? I got a new one last week and I`m...           1.000000   \n\n   predicted_labels  \n0           neutral  \n1          negative  \n2          negative  \n3          negative  \n4          negative  \n5          positive  \n6          positive  \n7          positive  \n8           neutral  \n9          positive  \n10         negative  \n11         positive  \n12         negative  \n13         negative  \n14          neutral  \n15         negative  \n16         negative  \n17         negative  \n18         positive  \n19         negative  \n20         positive  \n21         positive  \n22         negative  \n23         negative  \n24         negative  \n25         positive  \n26          neutral  \n27         negative  \n28         positive  \n29         negative  \n30         positive  \n31         positive  \n32         negative  \n33         positive  \n34         positive  \n35          neutral  \n36          neutral  \n37         positive  \n38         negative  \n39         positive  \n40         negative  \n41         positive  \n42          neutral  \n43         positive  \n44         positive  \n45          neutral  \n46         negative  \n47          neutral  \n48         negative  \n49         negative  ",
      "text/html": "<div>\n<style scoped>\n    .dataframe tbody tr th:only-of-type {\n        vertical-align: middle;\n    }\n\n    .dataframe tbody tr th {\n        vertical-align: top;\n    }\n\n    .dataframe thead th {\n        text-align: right;\n    }\n</style>\n<table border=\"1\" class=\"dataframe\">\n  <thead>\n    <tr style=\"text-align: right;\">\n      <th></th>\n      <th>text</th>\n      <th>confidence_scores</th>\n      <th>predicted_labels</th>\n    </tr>\n  </thead>\n  <tbody>\n    <tr>\n      <th>0</th>\n      <td>I`d have responded, if I were going</td>\n      <td>1.000000</td>\n      <td>neutral</td>\n    </tr>\n    <tr>\n      <th>1</th>\n      <td>Sooo SAD I will miss you here in San Diego!!!</td>\n      <td>1.000000</td>\n      <td>negative</td>\n    </tr>\n    <tr>\n      <th>2</th>\n      <td>my boss is bullying me...</td>\n      <td>1.000000</td>\n      <td>negative</td>\n    </tr>\n    <tr>\n      <th>3</th>\n      <td>what interview! leave me alone</td>\n      <td>1.000000</td>\n      <td>negative</td>\n    </tr>\n    <tr>\n      <th>4</th>\n      <td>Sons of ****, why couldn`t they put them on t...</td>\n      <td>1.000000</td>\n      <td>negative</td>\n    </tr>\n    <tr>\n      <th>5</th>\n      <td>http://www.dothebouncy.com/smf - some shameles...</td>\n      <td>1.000000</td>\n      <td>positive</td>\n    </tr>\n    <tr>\n      <th>6</th>\n      <td>2am feedings for the baby are fun when he is a...</td>\n      <td>1.000000</td>\n      <td>positive</td>\n    </tr>\n    <tr>\n      <th>7</th>\n      <td>Soooo high</td>\n      <td>1.000000</td>\n      <td>positive</td>\n    </tr>\n    <tr>\n      <th>8</th>\n      <td>Both of you</td>\n      <td>1.000000</td>\n      <td>neutral</td>\n    </tr>\n    <tr>\n      <th>9</th>\n      <td>Journey!? Wow... u just became cooler.  hehe....</td>\n      <td>1.000000</td>\n      <td>positive</td>\n    </tr>\n    <tr>\n      <th>10</th>\n      <td>as much as i love to be hopeful, i reckon the...</td>\n      <td>1.000000</td>\n      <td>negative</td>\n    </tr>\n    <tr>\n      <th>11</th>\n      <td>I really really like the song Love Story by Ta...</td>\n      <td>1.000000</td>\n      <td>positive</td>\n    </tr>\n    <tr>\n      <th>12</th>\n      <td>My Sharpie is running DANGERously low on ink</td>\n      <td>1.000000</td>\n      <td>negative</td>\n    </tr>\n    <tr>\n      <th>13</th>\n      <td>i want to go to music tonight but i lost my vo...</td>\n      <td>1.000000</td>\n      <td>negative</td>\n    </tr>\n    <tr>\n      <th>14</th>\n      <td>test test from the LG enV2</td>\n      <td>1.000000</td>\n      <td>neutral</td>\n    </tr>\n    <tr>\n      <th>15</th>\n      <td>Uh oh, I am sunburned</td>\n      <td>1.000000</td>\n      <td>negative</td>\n    </tr>\n    <tr>\n      <th>16</th>\n      <td>S`ok, trying to plot alternatives as we speak...</td>\n      <td>1.000000</td>\n      <td>negative</td>\n    </tr>\n    <tr>\n      <th>17</th>\n      <td>i`ve been sick for the past few days  and thus...</td>\n      <td>1.000000</td>\n      <td>negative</td>\n    </tr>\n    <tr>\n      <th>18</th>\n      <td>is back home now      gonna miss every one</td>\n      <td>1.000000</td>\n      <td>positive</td>\n    </tr>\n    <tr>\n      <th>19</th>\n      <td>Hes just not that into you</td>\n      <td>1.000000</td>\n      <td>negative</td>\n    </tr>\n    <tr>\n      <th>20</th>\n      <td>oh Marly, I`m so sorry!!  I hope you find her...</td>\n      <td>1.000000</td>\n      <td>positive</td>\n    </tr>\n    <tr>\n      <th>21</th>\n      <td>Playing Ghost Online is really interesting. Th...</td>\n      <td>1.000000</td>\n      <td>positive</td>\n    </tr>\n    <tr>\n      <th>22</th>\n      <td>is cleaning the house for her family who is co...</td>\n      <td>0.666667</td>\n      <td>negative</td>\n    </tr>\n    <tr>\n      <th>23</th>\n      <td>gotta restart my computer .. I thought Win7 wa...</td>\n      <td>1.000000</td>\n      <td>negative</td>\n    </tr>\n    <tr>\n      <th>24</th>\n      <td>SEe waT I Mean bOuT FoLL0w fRiiDaYs... It`S cA...</td>\n      <td>1.000000</td>\n      <td>negative</td>\n    </tr>\n    <tr>\n      <th>25</th>\n      <td>the free fillin` app on my ipod is fun, im add...</td>\n      <td>1.000000</td>\n      <td>positive</td>\n    </tr>\n    <tr>\n      <th>26</th>\n      <td>I`m sorry.</td>\n      <td>0.666667</td>\n      <td>neutral</td>\n    </tr>\n    <tr>\n      <th>27</th>\n      <td>On the way to Malaysia...no internet access to...</td>\n      <td>1.000000</td>\n      <td>negative</td>\n    </tr>\n    <tr>\n      <th>28</th>\n      <td>juss came backk from Berkeleyy ; omg its madd ...</td>\n      <td>1.000000</td>\n      <td>positive</td>\n    </tr>\n    <tr>\n      <th>29</th>\n      <td>Went to sleep and there is a power cut in Noid...</td>\n      <td>1.000000</td>\n      <td>negative</td>\n    </tr>\n    <tr>\n      <th>30</th>\n      <td>I`m going home now. Have you seen my new twitt...</td>\n      <td>1.000000</td>\n      <td>positive</td>\n    </tr>\n    <tr>\n      <th>31</th>\n      <td>i hope unni will make the audition . fighting ...</td>\n      <td>1.000000</td>\n      <td>positive</td>\n    </tr>\n    <tr>\n      <th>32</th>\n      <td>If it is any consolation I got my BMI tested ...</td>\n      <td>1.000000</td>\n      <td>negative</td>\n    </tr>\n    <tr>\n      <th>33</th>\n      <td>That`s very funny.  Cute kids.</td>\n      <td>1.000000</td>\n      <td>positive</td>\n    </tr>\n    <tr>\n      <th>34</th>\n      <td>Ahhh, I slept through the game.  I`m gonna tr...</td>\n      <td>1.000000</td>\n      <td>positive</td>\n    </tr>\n    <tr>\n      <th>35</th>\n      <td>Thats it, its the end. Tears for Fears vs Eric...</td>\n      <td>1.000000</td>\n      <td>neutral</td>\n    </tr>\n    <tr>\n      <th>36</th>\n      <td>Born and raised in NYC and living in Texas for...</td>\n      <td>0.333333</td>\n      <td>neutral</td>\n    </tr>\n    <tr>\n      <th>37</th>\n      <td>just in case you wonder, we are really busy to...</td>\n      <td>1.000000</td>\n      <td>positive</td>\n    </tr>\n    <tr>\n      <th>38</th>\n      <td>i`m soooooo sleeeeepy!!! the last day o` schoo...</td>\n      <td>1.000000</td>\n      <td>negative</td>\n    </tr>\n    <tr>\n      <th>39</th>\n      <td>A little happy for the wine jeje ok it`sm my f...</td>\n      <td>1.000000</td>\n      <td>positive</td>\n    </tr>\n    <tr>\n      <th>40</th>\n      <td>Car not happy, big big dent in boot! Hoping t...</td>\n      <td>1.000000</td>\n      <td>negative</td>\n    </tr>\n    <tr>\n      <th>41</th>\n      <td>im an avid fan of **** magazine and i love you...</td>\n      <td>1.000000</td>\n      <td>positive</td>\n    </tr>\n    <tr>\n      <th>42</th>\n      <td>MAYDAY?!</td>\n      <td>1.000000</td>\n      <td>neutral</td>\n    </tr>\n    <tr>\n      <th>43</th>\n      <td>RATT ROCKED NASHVILLE TONITE..ONE THING SUCKED...</td>\n      <td>1.000000</td>\n      <td>positive</td>\n    </tr>\n    <tr>\n      <th>44</th>\n      <td>I love to! But I`m only available from 5pm.  ...</td>\n      <td>1.000000</td>\n      <td>positive</td>\n    </tr>\n    <tr>\n      <th>45</th>\n      <td>The girl in the hair salon asked me 'Shall I t...</td>\n      <td>1.000000</td>\n      <td>neutral</td>\n    </tr>\n    <tr>\n      <th>46</th>\n      <td>egh blah and boooooooooooo i dunno wanna go to...</td>\n      <td>1.000000</td>\n      <td>negative</td>\n    </tr>\n    <tr>\n      <th>47</th>\n      <td>:visiting my friendster and facebook</td>\n      <td>1.000000</td>\n      <td>neutral</td>\n    </tr>\n    <tr>\n      <th>48</th>\n      <td>i donbt like to peel prawns, i also dont like ...</td>\n      <td>1.000000</td>\n      <td>negative</td>\n    </tr>\n    <tr>\n      <th>49</th>\n      <td>which case? I got a new one last week and I`m...</td>\n      <td>1.000000</td>\n      <td>negative</td>\n    </tr>\n  </tbody>\n</table>\n</div>"
     },
     "execution_count": 17,
     "metadata": {},
     "output_type": "execute_result"
    }
   ],
   "source": [
    "data"
   ],
   "metadata": {
    "collapsed": false,
    "ExecuteTime": {
     "end_time": "2023-09-05T04:56:01.092126600Z",
     "start_time": "2023-09-05T04:56:01.060537300Z"
    }
   },
   "id": "a8f17c1984d63aa"
  },
  {
   "cell_type": "code",
   "execution_count": null,
   "outputs": [],
   "source": [
    "df_predicted = pd.read_csv('data/sentiment/annotated/gpt35/conf_scores_1000_preproc.csv')"
   ],
   "metadata": {
    "collapsed": false
   },
   "id": "e31820154ae89099"
  },
  {
   "cell_type": "code",
   "execution_count": null,
   "outputs": [],
   "source": [
    "df_predicted = pd.read_csv('data/sentiment/annotated/ada/ada_500.csv')"
   ],
   "metadata": {
    "collapsed": false
   },
   "id": "68bf1cb3c3f0f6c2"
  },
  {
   "cell_type": "code",
   "execution_count": null,
   "outputs": [],
   "source": [
    "df_predicted.predicted_label.value_counts()"
   ],
   "metadata": {
    "collapsed": false
   },
   "id": "93b5742988353915"
  },
  {
   "cell_type": "code",
   "execution_count": null,
   "outputs": [],
   "source": [
    "df_predicted[df_predicted.confidence_score<1]"
   ],
   "metadata": {
    "collapsed": false
   },
   "id": "eed2be628872f649"
  },
  {
   "cell_type": "code",
   "execution_count": null,
   "outputs": [],
   "source": [
    "df_original = pd.read_csv('data/sentiment/original/train.csv', encoding= 'unicode_escape')"
   ],
   "metadata": {
    "collapsed": false
   },
   "id": "778fac8256c2aa70"
  },
  {
   "cell_type": "code",
   "execution_count": null,
   "outputs": [],
   "source": [
    "common_texts = df_predicted['text'].values\n",
    "df_filtered_original = df_original[df_original['text'].isin(common_texts)]"
   ],
   "metadata": {
    "collapsed": false
   },
   "id": "ca07f5b9492a88b6"
  },
  {
   "cell_type": "code",
   "execution_count": null,
   "outputs": [],
   "source": [
    "df_combined = pd.merge(df_filtered_original, df_predicted, on='text', how='inner')"
   ],
   "metadata": {
    "collapsed": false
   },
   "id": "f794e192ada1bfb"
  },
  {
   "cell_type": "code",
   "execution_count": null,
   "outputs": [],
   "source": [
    "df_combined['is_correct'] = (df_combined['sentiment'] == df_combined['predicted_labels']).astype(int)"
   ],
   "metadata": {
    "collapsed": false
   },
   "id": "1b671b96c09eba92"
  },
  {
   "cell_type": "code",
   "execution_count": null,
   "outputs": [],
   "source": [
    "plt.figure(figsize=(12, 7))\n",
    "sns.histplot(df_combined, x='confidence_score', hue='is_correct', element=\"bars\", stat=\"density\", common_norm=False, palette=\"viridis\", alpha=0.6)\n",
    "plt.title('Distribution of Confidence Scores')\n",
    "plt.xlabel('Confidence Score')\n",
    "plt.ylabel('Density')\n",
    "plt.legend(title='Prediction Correct', labels=['Incorrect', 'Correct'], loc='upper left', bbox_to_anchor=(1,1))\n",
    "plt.show()\n"
   ],
   "metadata": {
    "collapsed": false
   },
   "id": "1801a95dccf53d45"
  },
  {
   "cell_type": "code",
   "execution_count": null,
   "outputs": [],
   "source": [
    "unannotated_small = pd.read_csv('data/sentiment/unannotated/unannotated_sentiment_dataset.csv', index_col =0)"
   ],
   "metadata": {
    "collapsed": false
   },
   "id": "5d76b385e809f272"
  },
  {
   "cell_type": "code",
   "execution_count": null,
   "outputs": [],
   "source": [
    "unannotated_small.iloc[0:200].to_csv('data/sentiment/unannotated/unannotated_200.csv')"
   ],
   "metadata": {
    "collapsed": false
   },
   "id": "7f64fb1c92726137"
  },
  {
   "cell_type": "code",
   "execution_count": null,
   "outputs": [],
   "source": [
    "unannotated_small.iloc[0:50].to_csv('data/sentiment/unannotated/unannotated_50.csv')"
   ],
   "metadata": {
    "collapsed": false
   },
   "id": "a75f989a95718381"
  },
  {
   "cell_type": "code",
   "execution_count": null,
   "outputs": [],
   "source": [],
   "metadata": {
    "collapsed": false
   },
   "id": "f5e28879d9642ace"
  }
 ],
 "metadata": {
  "kernelspec": {
   "display_name": "Python 3",
   "language": "python",
   "name": "python3"
  },
  "language_info": {
   "codemirror_mode": {
    "name": "ipython",
    "version": 2
   },
   "file_extension": ".py",
   "mimetype": "text/x-python",
   "name": "python",
   "nbconvert_exporter": "python",
   "pygments_lexer": "ipython2",
   "version": "2.7.6"
  }
 },
 "nbformat": 4,
 "nbformat_minor": 5
}
